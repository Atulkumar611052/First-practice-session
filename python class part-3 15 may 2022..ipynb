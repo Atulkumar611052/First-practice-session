{
 "cells": [
  {
   "cell_type": "code",
   "execution_count": 1,
   "id": "75c6d292",
   "metadata": {},
   "outputs": [],
   "source": [
    "s=\"   kamle  shwar    \""
   ]
  },
  {
   "cell_type": "code",
   "execution_count": 2,
   "id": "ae6a6491",
   "metadata": {},
   "outputs": [
    {
     "data": {
      "text/plain": [
       "'kamle  shwar    '"
      ]
     },
     "execution_count": 2,
     "metadata": {},
     "output_type": "execute_result"
    }
   ],
   "source": [
    "s.lstrip()"
   ]
  },
  {
   "cell_type": "code",
   "execution_count": 3,
   "id": "aa4f9a6e",
   "metadata": {},
   "outputs": [
    {
     "data": {
      "text/plain": [
       "'   kamle  shwar'"
      ]
     },
     "execution_count": 3,
     "metadata": {},
     "output_type": "execute_result"
    }
   ],
   "source": [
    "s.rstrip()"
   ]
  },
  {
   "cell_type": "code",
   "execution_count": 4,
   "id": "2227a1ba",
   "metadata": {},
   "outputs": [
    {
     "data": {
      "text/plain": [
       "'kamle  shwar'"
      ]
     },
     "execution_count": 4,
     "metadata": {},
     "output_type": "execute_result"
    }
   ],
   "source": [
    "s.strip()"
   ]
  },
  {
   "cell_type": "code",
   "execution_count": 7,
   "id": "413b1b0f",
   "metadata": {},
   "outputs": [
    {
     "data": {
      "text/plain": [
       "'k  a  m  l  e  s  h  w  a  r'"
      ]
     },
     "execution_count": 7,
     "metadata": {},
     "output_type": "execute_result"
    }
   ],
   "source": [
    "\"  \".join(\"kamleshwar\")"
   ]
  },
  {
   "cell_type": "code",
   "execution_count": 9,
   "id": "3cf46e68",
   "metadata": {},
   "outputs": [
    {
     "data": {
      "text/plain": [
       "'   kamle  shwar    '"
      ]
     },
     "execution_count": 9,
     "metadata": {},
     "output_type": "execute_result"
    }
   ],
   "source": [
    "s"
   ]
  },
  {
   "cell_type": "raw",
   "id": "f55d8a78",
   "metadata": {},
   "source": [
    "s.center(25,'#')"
   ]
  },
  {
   "cell_type": "code",
   "execution_count": 10,
   "id": "243f53b3",
   "metadata": {},
   "outputs": [
    {
     "data": {
      "text/plain": [
       "'###   kamle  shwar    ###'"
      ]
     },
     "execution_count": 10,
     "metadata": {},
     "output_type": "execute_result"
    }
   ],
   "source": [
    "s.center(25 ,'#')"
   ]
  },
  {
   "cell_type": "code",
   "execution_count": 11,
   "id": "f69a8d09",
   "metadata": {},
   "outputs": [
    {
     "data": {
      "text/plain": [
       "'###   kamle  shwar    ###'"
      ]
     },
     "execution_count": 11,
     "metadata": {},
     "output_type": "execute_result"
    }
   ],
   "source": [
    "s.center(25 , '#')"
   ]
  },
  {
   "cell_type": "code",
   "execution_count": 12,
   "id": "0fcc9d39",
   "metadata": {},
   "outputs": [
    {
     "data": {
      "text/plain": [
       "'###   kamle  shwar    ###'"
      ]
     },
     "execution_count": 12,
     "metadata": {},
     "output_type": "execute_result"
    }
   ],
   "source": [
    "s.center(25 , '#')"
   ]
  },
  {
   "cell_type": "code",
   "execution_count": 19,
   "id": "e9ae8c2c",
   "metadata": {},
   "outputs": [],
   "source": [
    "s=\"Kamleshwar\""
   ]
  },
  {
   "cell_type": "code",
   "execution_count": 14,
   "id": "2c6c4841",
   "metadata": {},
   "outputs": [
    {
     "data": {
      "text/plain": [
       "False"
      ]
     },
     "execution_count": 14,
     "metadata": {},
     "output_type": "execute_result"
    }
   ],
   "source": [
    "s.isupper()"
   ]
  },
  {
   "cell_type": "code",
   "execution_count": 15,
   "id": "ef07fe60",
   "metadata": {},
   "outputs": [
    {
     "data": {
      "text/plain": [
       "False"
      ]
     },
     "execution_count": 15,
     "metadata": {},
     "output_type": "execute_result"
    }
   ],
   "source": [
    "s.islower()"
   ]
  },
  {
   "cell_type": "code",
   "execution_count": 18,
   "id": "25c5d759",
   "metadata": {},
   "outputs": [
    {
     "data": {
      "text/plain": [
       "False"
      ]
     },
     "execution_count": 18,
     "metadata": {},
     "output_type": "execute_result"
    }
   ],
   "source": [
    "s1.isupper()"
   ]
  },
  {
   "cell_type": "code",
   "execution_count": 24,
   "id": "98f002a3",
   "metadata": {},
   "outputs": [],
   "source": [
    "s1=\"KAMLESHWAR\""
   ]
  },
  {
   "cell_type": "code",
   "execution_count": 27,
   "id": "e4e1f4b7",
   "metadata": {},
   "outputs": [
    {
     "data": {
      "text/plain": [
       "True"
      ]
     },
     "execution_count": 27,
     "metadata": {},
     "output_type": "execute_result"
    }
   ],
   "source": [
    "s1.isupper()"
   ]
  },
  {
   "cell_type": "code",
   "execution_count": 29,
   "id": "2ee2ef44",
   "metadata": {},
   "outputs": [
    {
     "data": {
      "text/plain": [
       "False"
      ]
     },
     "execution_count": 29,
     "metadata": {},
     "output_type": "execute_result"
    }
   ],
   "source": [
    "s1.isdigit()"
   ]
  },
  {
   "cell_type": "code",
   "execution_count": 32,
   "id": "107bf3d4",
   "metadata": {},
   "outputs": [],
   "source": [
    "s4=(\" \")"
   ]
  },
  {
   "cell_type": "code",
   "execution_count": 33,
   "id": "b5a17211",
   "metadata": {},
   "outputs": [
    {
     "data": {
      "text/plain": [
       "True"
      ]
     },
     "execution_count": 33,
     "metadata": {},
     "output_type": "execute_result"
    }
   ],
   "source": [
    "s4.isspace()"
   ]
  },
  {
   "cell_type": "code",
   "execution_count": 34,
   "id": "117560cc",
   "metadata": {},
   "outputs": [],
   "source": [
    "s6=(\"atul123\")"
   ]
  },
  {
   "cell_type": "code",
   "execution_count": 37,
   "id": "2bbeda67",
   "metadata": {},
   "outputs": [
    {
     "data": {
      "text/plain": [
       "True"
      ]
     },
     "execution_count": 37,
     "metadata": {},
     "output_type": "execute_result"
    }
   ],
   "source": [
    "s6.isalnum()"
   ]
  },
  {
   "cell_type": "code",
   "execution_count": 38,
   "id": "740267f8",
   "metadata": {},
   "outputs": [],
   "source": [
    "s1=\"KAMLESHWAR\""
   ]
  },
  {
   "cell_type": "code",
   "execution_count": 39,
   "id": "05e7b298",
   "metadata": {},
   "outputs": [
    {
     "data": {
      "text/plain": [
       "True"
      ]
     },
     "execution_count": 39,
     "metadata": {},
     "output_type": "execute_result"
    }
   ],
   "source": [
    "s1.isalpha()"
   ]
  },
  {
   "cell_type": "code",
   "execution_count": 44,
   "id": "e21f41b4",
   "metadata": {},
   "outputs": [
    {
     "data": {
      "text/plain": [
       "False"
      ]
     },
     "execution_count": 44,
     "metadata": {},
     "output_type": "execute_result"
    }
   ],
   "source": [
    "s1.startswith(\"a\")"
   ]
  },
  {
   "cell_type": "code",
   "execution_count": 45,
   "id": "c3dadd29",
   "metadata": {},
   "outputs": [
    {
     "data": {
      "text/plain": [
       "True"
      ]
     },
     "execution_count": 45,
     "metadata": {},
     "output_type": "execute_result"
    }
   ],
   "source": [
    "s1.startswith(\"K\")"
   ]
  },
  {
   "cell_type": "code",
   "execution_count": 46,
   "id": "1466beb9",
   "metadata": {},
   "outputs": [
    {
     "data": {
      "text/plain": [
       "False"
      ]
     },
     "execution_count": 46,
     "metadata": {},
     "output_type": "execute_result"
    }
   ],
   "source": [
    "s1.startswith(\"k\")"
   ]
  },
  {
   "cell_type": "code",
   "execution_count": 47,
   "id": "6ae6035b",
   "metadata": {},
   "outputs": [
    {
     "data": {
      "text/plain": [
       "True"
      ]
     },
     "execution_count": 47,
     "metadata": {},
     "output_type": "execute_result"
    }
   ],
   "source": [
    "s1.startswith(\"\")"
   ]
  },
  {
   "cell_type": "code",
   "execution_count": 48,
   "id": "e101c90d",
   "metadata": {},
   "outputs": [
    {
     "data": {
      "text/plain": [
       "True"
      ]
     },
     "execution_count": 48,
     "metadata": {},
     "output_type": "execute_result"
    }
   ],
   "source": [
    "s.isascii()"
   ]
  },
  {
   "cell_type": "code",
   "execution_count": 58,
   "id": "cf1a50c9",
   "metadata": {},
   "outputs": [
    {
     "data": {
      "text/plain": [
       "True"
      ]
     },
     "execution_count": 58,
     "metadata": {},
     "output_type": "execute_result"
    }
   ],
   "source": [
    " s= 'kamleshwar123' \n",
    "\n",
    " s.isalnum()\n"
   ]
  },
  {
   "cell_type": "code",
   "execution_count": 59,
   "id": "b238241b",
   "metadata": {},
   "outputs": [
    {
     "data": {
      "text/plain": [
       "'@@@@@@@@@@@@@@@@@@@@@@@@@@@@@@@@@@@@@@@@@@@kamleshwar123@@@@@@@@@@@@@@@@@@@@@@@@@@@@@@@@@@@@@@@@@@@@'"
      ]
     },
     "execution_count": 59,
     "metadata": {},
     "output_type": "execute_result"
    }
   ],
   "source": [
    "s.center(100,'@')"
   ]
  },
  {
   "cell_type": "code",
   "execution_count": 64,
   "id": "53ee0939",
   "metadata": {},
   "outputs": [],
   "source": [
    "s=56"
   ]
  },
  {
   "cell_type": "code",
   "execution_count": 65,
   "id": "8ea49060",
   "metadata": {},
   "outputs": [
    {
     "ename": "AttributeError",
     "evalue": "'int' object has no attribute 'isdigit'",
     "output_type": "error",
     "traceback": [
      "\u001b[1;31m---------------------------------------------------------------------------\u001b[0m",
      "\u001b[1;31mAttributeError\u001b[0m                            Traceback (most recent call last)",
      "Input \u001b[1;32mIn [65]\u001b[0m, in \u001b[0;36m<cell line: 1>\u001b[1;34m()\u001b[0m\n\u001b[1;32m----> 1\u001b[0m \u001b[43ms\u001b[49m\u001b[38;5;241;43m.\u001b[39;49m\u001b[43misdigit\u001b[49m()\n",
      "\u001b[1;31mAttributeError\u001b[0m: 'int' object has no attribute 'isdigit'"
     ]
    }
   ],
   "source": [
    "s.isdigit()"
   ]
  },
  {
   "cell_type": "code",
   "execution_count": 66,
   "id": "a2c5d030",
   "metadata": {},
   "outputs": [],
   "source": [
    "s=\"kamleshwar\""
   ]
  },
  {
   "cell_type": "code",
   "execution_count": 69,
   "id": "c1e07c1b",
   "metadata": {},
   "outputs": [
    {
     "data": {
      "text/plain": [
       "<reversed at 0x1cbb9711fa0>"
      ]
     },
     "execution_count": 69,
     "metadata": {},
     "output_type": "execute_result"
    }
   ],
   "source": [
    "reversed(s)"
   ]
  },
  {
   "cell_type": "code",
   "execution_count": 72,
   "id": "f5e6faae",
   "metadata": {},
   "outputs": [
    {
     "data": {
      "text/plain": [
       "'r a w h s e l m a k'"
      ]
     },
     "execution_count": 72,
     "metadata": {},
     "output_type": "execute_result"
    }
   ],
   "source": [
    "\" \".join(reversed(\"kamleshwar\"))"
   ]
  },
  {
   "cell_type": "code",
   "execution_count": 73,
   "id": "d9091139",
   "metadata": {},
   "outputs": [],
   "source": [
    "s=\"2135132.31264\""
   ]
  },
  {
   "cell_type": "code",
   "execution_count": 75,
   "id": "e29bbd5a",
   "metadata": {},
   "outputs": [
    {
     "data": {
      "text/plain": [
       "False"
      ]
     },
     "execution_count": 75,
     "metadata": {},
     "output_type": "execute_result"
    }
   ],
   "source": [
    "s.isdigit()"
   ]
  },
  {
   "cell_type": "code",
   "execution_count": 77,
   "id": "3475d8f8",
   "metadata": {},
   "outputs": [
    {
     "data": {
      "text/plain": [
       "False"
      ]
     },
     "execution_count": 77,
     "metadata": {},
     "output_type": "execute_result"
    }
   ],
   "source": [
    "s.isnumeric()"
   ]
  },
  {
   "cell_type": "code",
   "execution_count": 78,
   "id": "7cf442c1",
   "metadata": {},
   "outputs": [],
   "source": [
    "s=\"kamleshwar\\tpushpa\\tatul\\tmanjari\\trajnish\\treyanshi\\treyansh\""
   ]
  },
  {
   "cell_type": "code",
   "execution_count": 80,
   "id": "0f5b2b4c",
   "metadata": {},
   "outputs": [
    {
     "data": {
      "text/plain": [
       "'kamleshwar      pushpa  atul    manjari rajnish reyanshi        reyansh'"
      ]
     },
     "execution_count": 80,
     "metadata": {},
     "output_type": "execute_result"
    }
   ],
   "source": [
    "s.expandtabs()"
   ]
  },
  {
   "cell_type": "code",
   "execution_count": 81,
   "id": "948b132b",
   "metadata": {},
   "outputs": [
    {
     "ename": "SyntaxError",
     "evalue": "unexpected character after line continuation character (3931190029.py, line 1)",
     "output_type": "error",
     "traceback": [
      "\u001b[1;36m  Input \u001b[1;32mIn [81]\u001b[1;36m\u001b[0m\n\u001b[1;33m    http:\\\\codeshare.io\\x8py8y\u001b[0m\n\u001b[1;37m          ^\u001b[0m\n\u001b[1;31mSyntaxError\u001b[0m\u001b[1;31m:\u001b[0m unexpected character after line continuation character\n"
     ]
    }
   ],
   "source": [
    "http:\\\\codeshare.io\\x8py8y"
   ]
  },
  {
   "cell_type": "code",
   "execution_count": 82,
   "id": "d3399162",
   "metadata": {},
   "outputs": [],
   "source": [
    "s=\"sudhanshu\""
   ]
  },
  {
   "cell_type": "code",
   "execution_count": 83,
   "id": "b0202dd5",
   "metadata": {},
   "outputs": [
    {
     "data": {
      "text/plain": [
       "'hsnah'"
      ]
     },
     "execution_count": 83,
     "metadata": {},
     "output_type": "execute_result"
    }
   ],
   "source": [
    "s[-2:-7:-1]"
   ]
  },
  {
   "cell_type": "code",
   "execution_count": 86,
   "id": "785ac4b4",
   "metadata": {},
   "outputs": [],
   "source": [
    "sw=\"\"\"Wikipedia (audio speaker iconpronunciation (help·info)) is a free online encyclopedia website in 326 languages of the world. People can freely use it, share it, and change it, without having to pay. It is also one of the biggest wiki organizations. People can choose to donate to the Wikimedia Foundation to fund Wikipedia and its sister projects. It is an open content website. This means anyone can copy it, and make changes to it if they follow the rules for copying or editing.\n",
    "\n",
    "Wikipedia is owned by an American organization, the Wikimedia Foundation, which is in San Francisco, California.\n",
    "\n",
    "Wikipedia's name is a portmanteau of two words, wiki and encyclopedia.[3]\n",
    "\n",
    "Wikipedia was started on January 10, 2001, by Jimmy Wales and Larry Sanger as part of an earlier online encyclopedia named Nupedia. On January 15, 2001, Wikipedia became a separate website of its own. It is a wiki that uses the software MediaWiki (like all other Wikimedia Foundation projects).\n",
    "\n",
    "Anyone who wishes to can change the pages on Wikipedia, or even make new ones. Wikipedia has a standard page layout for all pages in the encyclopedia.\n",
    "\n",
    "As of September 2011, Wikipedia had about 18 million pages in about 300 languages and more than 3.50 billion words across all Wikipedias. The regular English Wikipedia is the largest Wikipedia edition.\"\"\""
   ]
  },
  {
   "cell_type": "code",
   "execution_count": 87,
   "id": "8eac17f4",
   "metadata": {},
   "outputs": [
    {
     "data": {
      "text/plain": [
       "\"Wikipedia (audio speaker iconpronunciation (help·info)) is a free online encyclopedia website in 326 languages of the world. People can freely use it, share it, and change it, without having to pay. It is also one of the biggest wiki organizations. People can choose to donate to the Wikimedia Foundation to fund Wikipedia and its sister projects. It is an open content website. This means anyone can copy it, and make changes to it if they follow the rules for copying or editing.\\n\\nWikipedia is owned by an American organization, the Wikimedia Foundation, which is in San Francisco, California.\\n\\nWikipedia's name is a portmanteau of two words, wiki and encyclopedia.[3]\\n\\nWikipedia was started on January 10, 2001, by Jimmy Wales and Larry Sanger as part of an earlier online encyclopedia named Nupedia. On January 15, 2001, Wikipedia became a separate website of its own. It is a wiki that uses the software MediaWiki (like all other Wikimedia Foundation projects).\\n\\nAnyone who wishes to can change the pages on Wikipedia, or even make new ones. Wikipedia has a standard page layout for all pages in the encyclopedia.\\n\\nAs of September 2011, Wikipedia had about 18 million pages in about 300 languages and more than 3.50 billion words across all Wikipedias. The regular English Wikipedia is the largest Wikipedia edition.\""
      ]
     },
     "execution_count": 87,
     "metadata": {},
     "output_type": "execute_result"
    }
   ],
   "source": [
    "sw"
   ]
  },
  {
   "cell_type": "code",
   "execution_count": 88,
   "id": "69fc6bf6",
   "metadata": {},
   "outputs": [
    {
     "data": {
      "text/plain": [
       "['Wikipedia (audio speaker iconpronunciation (help·info)) is a free online encyclopedia website in 326 languages of the world. People can freely use it, share it, and change it, without having to pay. It is also one of the biggest wiki organizations. People can choose to donate to the Wikimedia Foundation to fund Wikipedia and its sister projects. It is an open content website. This means anyone can copy it, and make changes to it if they follow the rules for copying or editing.',\n",
       " '',\n",
       " 'Wikipedia is owned by an American organization, the Wikimedia Foundation, which is in San Francisco, California.',\n",
       " '',\n",
       " \"Wikipedia's name is a portmanteau of two words, wiki and encyclopedia.[3]\",\n",
       " '',\n",
       " 'Wikipedia was started on January 10, 2001, by Jimmy Wales and Larry Sanger as part of an earlier online encyclopedia named Nupedia. On January 15, 2001, Wikipedia became a separate website of its own. It is a wiki that uses the software MediaWiki (like all other Wikimedia Foundation projects).',\n",
       " '',\n",
       " 'Anyone who wishes to can change the pages on Wikipedia, or even make new ones. Wikipedia has a standard page layout for all pages in the encyclopedia.',\n",
       " '',\n",
       " 'As of September 2011, Wikipedia had about 18 million pages in about 300 languages and more than 3.50 billion words across all Wikipedias. The regular English Wikipedia is the largest Wikipedia edition.']"
      ]
     },
     "execution_count": 88,
     "metadata": {},
     "output_type": "execute_result"
    }
   ],
   "source": [
    "sw.splitlines()"
   ]
  },
  {
   "cell_type": "code",
   "execution_count": 89,
   "id": "69c89350",
   "metadata": {},
   "outputs": [
    {
     "data": {
      "text/plain": [
       "11"
      ]
     },
     "execution_count": 89,
     "metadata": {},
     "output_type": "execute_result"
    }
   ],
   "source": [
    "len(sw.splitlines())"
   ]
  },
  {
   "cell_type": "code",
   "execution_count": 90,
   "id": "e0e4df7a",
   "metadata": {},
   "outputs": [
    {
     "data": {
      "text/plain": [
       "\"wikipedia (audio speaker iconpronunciation (help·info)) is a free online encyclopedia website in 326 languages of the world. people can freely use it, share it, and change it, without having to pay. it is also one of the biggest wiki organizations. people can choose to donate to the wikimedia foundation to fund wikipedia and its sister projects. it is an open content website. this means anyone can copy it, and make changes to it if they follow the rules for copying or editing.\\n\\nwikipedia is owned by an american organization, the wikimedia foundation, which is in san francisco, california.\\n\\nwikipedia's name is a portmanteau of two words, wiki and encyclopedia.[3]\\n\\nwikipedia was started on january 10, 2001, by jimmy wales and larry sanger as part of an earlier online encyclopedia named nupedia. on january 15, 2001, wikipedia became a separate website of its own. it is a wiki that uses the software mediawiki (like all other wikimedia foundation projects).\\n\\nanyone who wishes to can change the pages on wikipedia, or even make new ones. wikipedia has a standard page layout for all pages in the encyclopedia.\\n\\nas of september 2011, wikipedia had about 18 million pages in about 300 languages and more than 3.50 billion words across all wikipedias. the regular english wikipedia is the largest wikipedia edition.\""
      ]
     },
     "execution_count": 90,
     "metadata": {},
     "output_type": "execute_result"
    }
   ],
   "source": [
    "sw.lower()"
   ]
  },
  {
   "cell_type": "code",
   "execution_count": 91,
   "id": "8f9ef8c6",
   "metadata": {},
   "outputs": [
    {
     "data": {
      "text/plain": [
       "\"WIKIPEDIA (AUDIO SPEAKER ICONPRONUNCIATION (HELP·INFO)) IS A FREE ONLINE ENCYCLOPEDIA WEBSITE IN 326 LANGUAGES OF THE WORLD. PEOPLE CAN FREELY USE IT, SHARE IT, AND CHANGE IT, WITHOUT HAVING TO PAY. IT IS ALSO ONE OF THE BIGGEST WIKI ORGANIZATIONS. PEOPLE CAN CHOOSE TO DONATE TO THE WIKIMEDIA FOUNDATION TO FUND WIKIPEDIA AND ITS SISTER PROJECTS. IT IS AN OPEN CONTENT WEBSITE. THIS MEANS ANYONE CAN COPY IT, AND MAKE CHANGES TO IT IF THEY FOLLOW THE RULES FOR COPYING OR EDITING.\\n\\nWIKIPEDIA IS OWNED BY AN AMERICAN ORGANIZATION, THE WIKIMEDIA FOUNDATION, WHICH IS IN SAN FRANCISCO, CALIFORNIA.\\n\\nWIKIPEDIA'S NAME IS A PORTMANTEAU OF TWO WORDS, WIKI AND ENCYCLOPEDIA.[3]\\n\\nWIKIPEDIA WAS STARTED ON JANUARY 10, 2001, BY JIMMY WALES AND LARRY SANGER AS PART OF AN EARLIER ONLINE ENCYCLOPEDIA NAMED NUPEDIA. ON JANUARY 15, 2001, WIKIPEDIA BECAME A SEPARATE WEBSITE OF ITS OWN. IT IS A WIKI THAT USES THE SOFTWARE MEDIAWIKI (LIKE ALL OTHER WIKIMEDIA FOUNDATION PROJECTS).\\n\\nANYONE WHO WISHES TO CAN CHANGE THE PAGES ON WIKIPEDIA, OR EVEN MAKE NEW ONES. WIKIPEDIA HAS A STANDARD PAGE LAYOUT FOR ALL PAGES IN THE ENCYCLOPEDIA.\\n\\nAS OF SEPTEMBER 2011, WIKIPEDIA HAD ABOUT 18 MILLION PAGES IN ABOUT 300 LANGUAGES AND MORE THAN 3.50 BILLION WORDS ACROSS ALL WIKIPEDIAS. THE REGULAR ENGLISH WIKIPEDIA IS THE LARGEST WIKIPEDIA EDITION.\""
      ]
     },
     "execution_count": 91,
     "metadata": {},
     "output_type": "execute_result"
    }
   ],
   "source": [
    "sw.upper()"
   ]
  },
  {
   "cell_type": "code",
   "execution_count": 92,
   "id": "48bac3c1",
   "metadata": {},
   "outputs": [
    {
     "data": {
      "text/plain": [
       "\".noitide aidepikiW tsegral eht si aidepikiW hsilgnE raluger ehT .saidepikiW lla ssorca sdrow noillib 05.3 naht erom dna segaugnal 003 tuoba ni segap noillim 81 tuoba dah aidepikiW ,1102 rebmetpeS fo sA\\n\\n.aidepolcycne eht ni segap lla rof tuoyal egap dradnats a sah aidepikiW .seno wen ekam neve ro ,aidepikiW no segap eht egnahc nac ot sehsiw ohw enoynA\\n\\n.)stcejorp noitadnuoF aidemikiW rehto lla ekil( ikiWaideM erawtfos eht sesu taht ikiw a si tI .nwo sti fo etisbew etarapes a emaceb aidepikiW ,1002 ,51 yraunaJ nO .aidepuN deman aidepolcycne enilno reilrae na fo trap sa regnaS yrraL dna selaW ymmiJ yb ,1002 ,01 yraunaJ no detrats saw aidepikiW\\n\\n]3[.aidepolcycne dna ikiw ,sdrow owt fo uaetnamtrop a si eman s'aidepikiW\\n\\n.ainrofilaC ,ocsicnarF naS ni si hcihw ,noitadnuoF aidemikiW eht ,noitazinagro naciremA na yb denwo si aidepikiW\\n\\n.gnitide ro gniypoc rof selur eht wollof yeht fi ti ot segnahc ekam dna ,ti ypoc nac enoyna snaem sihT .etisbew tnetnoc nepo na si tI .stcejorp retsis sti dna aidepikiW dnuf ot noitadnuoF aidemikiW eht ot etanod ot esoohc nac elpoeP .snoitazinagro ikiw tseggib eht fo eno osla si tI .yap ot gnivah tuohtiw ,ti egnahc dna ,ti erahs ,ti esu yleerf nac elpoeP .dlrow eht fo segaugnal 623 ni etisbew aidepolcycne enilno eerf a si ))ofni·pleh( noitaicnunorpnoci rekaeps oidua( aidepikiW\""
      ]
     },
     "execution_count": 92,
     "metadata": {},
     "output_type": "execute_result"
    }
   ],
   "source": [
    "sw[::-1]"
   ]
  },
  {
   "cell_type": "code",
   "execution_count": 93,
   "id": "d2e0675f",
   "metadata": {},
   "outputs": [
    {
     "data": {
      "text/plain": [
       "'sudhanshu'"
      ]
     },
     "execution_count": 93,
     "metadata": {},
     "output_type": "execute_result"
    }
   ],
   "source": [
    "s"
   ]
  },
  {
   "cell_type": "code",
   "execution_count": 94,
   "id": "2eca340a",
   "metadata": {},
   "outputs": [],
   "source": [
    "s1=\"     im=amatulkumar   \""
   ]
  },
  {
   "cell_type": "code",
   "execution_count": 95,
   "id": "0235a1da",
   "metadata": {},
   "outputs": [
    {
     "data": {
      "text/plain": [
       "'im=amatulkumar   '"
      ]
     },
     "execution_count": 95,
     "metadata": {},
     "output_type": "execute_result"
    }
   ],
   "source": [
    "s1.lstrip()"
   ]
  },
  {
   "cell_type": "code",
   "execution_count": 96,
   "id": "4f793c84",
   "metadata": {},
   "outputs": [
    {
     "data": {
      "text/plain": [
       "'     im=amatulkumar'"
      ]
     },
     "execution_count": 96,
     "metadata": {},
     "output_type": "execute_result"
    }
   ],
   "source": [
    "s1.rstrip()"
   ]
  },
  {
   "cell_type": "code",
   "execution_count": 98,
   "id": "86bc0985",
   "metadata": {},
   "outputs": [
    {
     "data": {
      "text/plain": [
       "'im=amatulkumar'"
      ]
     },
     "execution_count": 98,
     "metadata": {},
     "output_type": "execute_result"
    }
   ],
   "source": [
    "s1.strip()"
   ]
  },
  {
   "cell_type": "code",
   "execution_count": 103,
   "id": "08807220",
   "metadata": {},
   "outputs": [],
   "source": [
    "s2='kamleshwar\\tmishra\\tpushpa\\tmishra\\tatul\\tmishea\\tmanjari\\tmishra\\trajnish\\tmishra\\treyanshi\\tmishra\\treransh\\tmishra'"
   ]
  },
  {
   "cell_type": "code",
   "execution_count": 107,
   "id": "171f02fd",
   "metadata": {},
   "outputs": [
    {
     "data": {
      "text/plain": [
       "'kamleshwar      mishra  pushpa  mishra  atul    mishea  manjari mishra  rajnish mishra  reyanshi        mishra  reransh mishra'"
      ]
     },
     "execution_count": 107,
     "metadata": {},
     "output_type": "execute_result"
    }
   ],
   "source": [
    "s2.expandtabs()"
   ]
  },
  {
   "cell_type": "code",
   "execution_count": 108,
   "id": "d902b720",
   "metadata": {},
   "outputs": [],
   "source": [
    "s1=\"sudhanshu\""
   ]
  },
  {
   "cell_type": "code",
   "execution_count": 115,
   "id": "9d28e882",
   "metadata": {},
   "outputs": [
    {
     "data": {
      "text/plain": [
       "('@',\n",
       " 'ssudhanshuusudhanshudsudhanshuhsudhanshuasudhanshunsudhanshussudhanshuhsudhanshuu')"
      ]
     },
     "execution_count": 115,
     "metadata": {},
     "output_type": "execute_result"
    }
   ],
   "source": [
    "'@',s1.join(\"sudhanshu\")"
   ]
  },
  {
   "cell_type": "code",
   "execution_count": 116,
   "id": "e63df7f0",
   "metadata": {},
   "outputs": [],
   "source": [
    "s10=\"atul123\""
   ]
  },
  {
   "cell_type": "code",
   "execution_count": 117,
   "id": "11616388",
   "metadata": {},
   "outputs": [
    {
     "data": {
      "text/plain": [
       "True"
      ]
     },
     "execution_count": 117,
     "metadata": {},
     "output_type": "execute_result"
    }
   ],
   "source": [
    "s10.isalnum()"
   ]
  },
  {
   "cell_type": "code",
   "execution_count": 118,
   "id": "8e33a0b2",
   "metadata": {},
   "outputs": [],
   "source": [
    "s9=\"41456687412386342141554135484541846864\""
   ]
  },
  {
   "cell_type": "code",
   "execution_count": 120,
   "id": "b4363fec",
   "metadata": {},
   "outputs": [
    {
     "data": {
      "text/plain": [
       "True"
      ]
     },
     "execution_count": 120,
     "metadata": {},
     "output_type": "execute_result"
    }
   ],
   "source": [
    "s9.isnumeric()"
   ]
  },
  {
   "cell_type": "code",
   "execution_count": 123,
   "id": "4b68980a",
   "metadata": {},
   "outputs": [
    {
     "data": {
      "text/plain": [
       "'@@@@@@@@@@@@@@@@@@@atul123@@@@@@@@@@@@@@@@@@@'"
      ]
     },
     "execution_count": 123,
     "metadata": {},
     "output_type": "execute_result"
    }
   ],
   "source": [
    "s10.center(45, '@')"
   ]
  },
  {
   "cell_type": "code",
   "execution_count": null,
   "id": "98d41c3f",
   "metadata": {},
   "outputs": [],
   "source": []
  }
 ],
 "metadata": {
  "kernelspec": {
   "display_name": "Python 3 (ipykernel)",
   "language": "python",
   "name": "python3"
  },
  "language_info": {
   "codemirror_mode": {
    "name": "ipython",
    "version": 3
   },
   "file_extension": ".py",
   "mimetype": "text/x-python",
   "name": "python",
   "nbconvert_exporter": "python",
   "pygments_lexer": "ipython3",
   "version": "3.9.12"
  }
 },
 "nbformat": 4,
 "nbformat_minor": 5
}
