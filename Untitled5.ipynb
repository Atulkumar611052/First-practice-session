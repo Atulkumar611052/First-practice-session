{
 "cells": [
  {
   "cell_type": "code",
   "execution_count": 4,
   "id": "a57d9c2d",
   "metadata": {},
   "outputs": [],
   "source": [
    "s=\"sudhanshu\""
   ]
  },
  {
   "cell_type": "code",
   "execution_count": 5,
   "id": "9e6af330",
   "metadata": {},
   "outputs": [
    {
     "data": {
      "text/plain": [
       "''"
      ]
     },
     "execution_count": 5,
     "metadata": {},
     "output_type": "execute_result"
    }
   ],
   "source": [
    "s[:-1:-1]"
   ]
  },
  {
   "cell_type": "code",
   "execution_count": 6,
   "id": "b458897a",
   "metadata": {},
   "outputs": [
    {
     "ename": "TypeError",
     "evalue": "can only concatenate str (not \"int\") to str",
     "output_type": "error",
     "traceback": [
      "\u001b[1;31m---------------------------------------------------------------------------\u001b[0m",
      "\u001b[1;31mTypeError\u001b[0m                                 Traceback (most recent call last)",
      "Input \u001b[1;32mIn [6]\u001b[0m, in \u001b[0;36m<cell line: 1>\u001b[1;34m()\u001b[0m\n\u001b[1;32m----> 1\u001b[0m \u001b[43ms\u001b[49m\u001b[38;5;241;43m+\u001b[39;49m\u001b[38;5;241;43m1\u001b[39;49m\n",
      "\u001b[1;31mTypeError\u001b[0m: can only concatenate str (not \"int\") to str"
     ]
    }
   ],
   "source": [
    "s+1"
   ]
  },
  {
   "cell_type": "code",
   "execution_count": 7,
   "id": "82559431",
   "metadata": {},
   "outputs": [
    {
     "data": {
      "text/plain": [
       "str"
      ]
     },
     "execution_count": 7,
     "metadata": {},
     "output_type": "execute_result"
    }
   ],
   "source": [
    "type(s)"
   ]
  },
  {
   "cell_type": "code",
   "execution_count": 8,
   "id": "c11d8cbf",
   "metadata": {},
   "outputs": [
    {
     "data": {
      "text/plain": [
       "'sudhanshu1'"
      ]
     },
     "execution_count": 8,
     "metadata": {},
     "output_type": "execute_result"
    }
   ],
   "source": [
    "s+\"1\""
   ]
  },
  {
   "cell_type": "code",
   "execution_count": 9,
   "id": "d5c7c886",
   "metadata": {},
   "outputs": [
    {
     "data": {
      "text/plain": [
       "'sudhanshu1'"
      ]
     },
     "execution_count": 9,
     "metadata": {},
     "output_type": "execute_result"
    }
   ],
   "source": [
    "s+'1'"
   ]
  },
  {
   "cell_type": "code",
   "execution_count": 10,
   "id": "ee7ff5a9",
   "metadata": {},
   "outputs": [
    {
     "data": {
      "text/plain": [
       "'sudhanshu1'"
      ]
     },
     "execution_count": 10,
     "metadata": {},
     "output_type": "execute_result"
    }
   ],
   "source": [
    "s+str(1)"
   ]
  },
  {
   "cell_type": "code",
   "execution_count": 12,
   "id": "a28fa92c",
   "metadata": {},
   "outputs": [
    {
     "data": {
      "text/plain": [
       "9"
      ]
     },
     "execution_count": 12,
     "metadata": {},
     "output_type": "execute_result"
    }
   ],
   "source": [
    " len(s)"
   ]
  },
  {
   "cell_type": "code",
   "execution_count": 15,
   "id": "7078a392",
   "metadata": {},
   "outputs": [
    {
     "data": {
      "text/plain": [
       "'sudh123456789'"
      ]
     },
     "execution_count": 15,
     "metadata": {},
     "output_type": "execute_result"
    }
   ],
   "source": [
    "'sudh'+'123456789'\n"
   ]
  },
  {
   "cell_type": "code",
   "execution_count": 16,
   "id": "15afd22a",
   "metadata": {},
   "outputs": [
    {
     "data": {
      "text/plain": [
       "'sudhanshusudhanshusudhanshusudhanshusudhanshusudhanshusudhanshusudhanshu'"
      ]
     },
     "execution_count": 16,
     "metadata": {},
     "output_type": "execute_result"
    }
   ],
   "source": [
    "s*8"
   ]
  },
  {
   "cell_type": "code",
   "execution_count": 25,
   "id": "a9eda464",
   "metadata": {},
   "outputs": [
    {
     "ename": "NameError",
     "evalue": "name 'sudhanshu' is not defined",
     "output_type": "error",
     "traceback": [
      "\u001b[1;31m---------------------------------------------------------------------------\u001b[0m",
      "\u001b[1;31mNameError\u001b[0m                                 Traceback (most recent call last)",
      "Input \u001b[1;32mIn [25]\u001b[0m, in \u001b[0;36m<cell line: 1>\u001b[1;34m()\u001b[0m\n\u001b[1;32m----> 1\u001b[0m s\u001b[38;5;241m=\u001b[39m\u001b[43msudhanshu\u001b[49m\n",
      "\u001b[1;31mNameError\u001b[0m: name 'sudhanshu' is not defined"
     ]
    }
   ],
   "source": [
    "s=sudhanshu"
   ]
  },
  {
   "cell_type": "code",
   "execution_count": 22,
   "id": "5d1b3f98",
   "metadata": {},
   "outputs": [
    {
     "ename": "TypeError",
     "evalue": "count() takes at least 1 argument (0 given)",
     "output_type": "error",
     "traceback": [
      "\u001b[1;31m---------------------------------------------------------------------------\u001b[0m",
      "\u001b[1;31mTypeError\u001b[0m                                 Traceback (most recent call last)",
      "Input \u001b[1;32mIn [22]\u001b[0m, in \u001b[0;36m<cell line: 1>\u001b[1;34m()\u001b[0m\n\u001b[1;32m----> 1\u001b[0m \u001b[43ms\u001b[49m\u001b[38;5;241;43m.\u001b[39;49m\u001b[43mcount\u001b[49m\u001b[43m(\u001b[49m\u001b[43m)\u001b[49m\n",
      "\u001b[1;31mTypeError\u001b[0m: count() takes at least 1 argument (0 given)"
     ]
    }
   ],
   "source": [
    "s.count()"
   ]
  },
  {
   "cell_type": "code",
   "execution_count": 23,
   "id": "5afced0e",
   "metadata": {},
   "outputs": [
    {
     "ename": "TypeError",
     "evalue": "count() takes at least 1 argument (0 given)",
     "output_type": "error",
     "traceback": [
      "\u001b[1;31m---------------------------------------------------------------------------\u001b[0m",
      "\u001b[1;31mTypeError\u001b[0m                                 Traceback (most recent call last)",
      "Input \u001b[1;32mIn [23]\u001b[0m, in \u001b[0;36m<cell line: 1>\u001b[1;34m()\u001b[0m\n\u001b[1;32m----> 1\u001b[0m \u001b[43ms\u001b[49m\u001b[38;5;241;43m.\u001b[39;49m\u001b[43mcount\u001b[49m\u001b[43m(\u001b[49m\u001b[43m)\u001b[49m\n",
      "\u001b[1;31mTypeError\u001b[0m: count() takes at least 1 argument (0 given)"
     ]
    }
   ],
   "source": [
    "s.count()"
   ]
  },
  {
   "cell_type": "code",
   "execution_count": 27,
   "id": "86faa74f",
   "metadata": {},
   "outputs": [
    {
     "data": {
      "text/plain": [
       "2"
      ]
     },
     "execution_count": 27,
     "metadata": {},
     "output_type": "execute_result"
    }
   ],
   "source": [
    "s.count(\"s\")"
   ]
  },
  {
   "cell_type": "code",
   "execution_count": 28,
   "id": "d32a5e2f",
   "metadata": {},
   "outputs": [
    {
     "data": {
      "text/plain": [
       "1"
      ]
     },
     "execution_count": 28,
     "metadata": {},
     "output_type": "execute_result"
    }
   ],
   "source": [
    "s.count(\"su\")"
   ]
  },
  {
   "cell_type": "code",
   "execution_count": null,
   "id": "2d6ebec0",
   "metadata": {},
   "outputs": [],
   "source": [
    "s.split()"
   ]
  },
  {
   "cell_type": "code",
   "execution_count": 30,
   "id": "c887cb0c",
   "metadata": {},
   "outputs": [
    {
     "data": {
      "text/plain": [
       "['su', 'hanshu']"
      ]
     },
     "execution_count": 30,
     "metadata": {},
     "output_type": "execute_result"
    }
   ],
   "source": [
    "s.split(\"d\")"
   ]
  },
  {
   "cell_type": "code",
   "execution_count": 31,
   "id": "03aba2fb",
   "metadata": {},
   "outputs": [
    {
     "data": {
      "text/plain": [
       "list"
      ]
     },
     "execution_count": 31,
     "metadata": {},
     "output_type": "execute_result"
    }
   ],
   "source": [
    "type(s.split('d'))"
   ]
  },
  {
   "cell_type": "code",
   "execution_count": 32,
   "id": "7f574ea2",
   "metadata": {},
   "outputs": [
    {
     "ename": "SyntaxError",
     "evalue": "invalid syntax (938663786.py, line 1)",
     "output_type": "error",
     "traceback": [
      "\u001b[1;36m  Input \u001b[1;32mIn [32]\u001b[1;36m\u001b[0m\n\u001b[1;33m    sw=Vishnu (/ˈvɪʃnʊ/; [ʋɪʂɳʊ]; Sanskrit: विष्णु, lit. 'the pervader', Viṣṇu), also known as Narayana and Hari, is one of the principal deities of Hinduism. He is the supreme being within Vaishnavism, one of the major traditions within contemporary Hinduism.[6][7]\u001b[0m\n\u001b[1;37m               ^\u001b[0m\n\u001b[1;31mSyntaxError\u001b[0m\u001b[1;31m:\u001b[0m invalid syntax\n"
     ]
    }
   ],
   "source": [
    "sw=Vishnu (/ˈvɪʃnʊ/; [ʋɪʂɳʊ]; Sanskrit: विष्णु, lit. 'the pervader', Viṣṇu), also known as Narayana and Hari, is one of the principal deities of Hinduism. He is the supreme being within Vaishnavism, one of the major traditions within contemporary Hinduism.[6][7]\n",
    "\n",
    "Vishnu is known as \"The Preserver\" within the Trimurti, the triple deity of supreme divinity that includes Brahma and Shiva.[8][9] In Vaishnavism tradition, Vishnu is the supreme being who creates, protects and transforms the universe. In the Shaktism tradition, the Goddess, or Devi, is described as one of the supreme, yet Vishnu is revered along with Shiva and Brahma. A goddess is stated to be the energy and creative power (Shakti) of each, with Lakshmi the equal complementary partner of Vishnu.[10] He is one of the five equivalent deities in Panchayatana puja of the Smarta tradition of Hinduism.[9]\n",
    "\n",
    "According to the Vaishnavism sect, the highest form of Ishvar is with qualities (Saguna), and have certain form but is limitless, transcendent and unchanging absolute Brahman, and the primal Atman (Self) of the universe.[11] There are many both benevolent and fearsome depictions of Vishnu. In benevolent aspects, he is depicted as an omniscient sleeping on the coils of the serpent Adishesha (who represents time) floating in the primeval ocean of milk called Kshira Sagara with consort Lakshmi.[12]\n",
    "\n",
    "Whenever the world is threatened with evil, chaos, and destructive forces, Vishnu descends in the form of an avatar (incarnation) to restore the cosmic order and protect Dharma. Dashavatara are the ten primary avatars (incarnations) of Vishnu. Out of the ten, Rama and Krishna avatars are most important.[13]"
   ]
  },
  {
   "cell_type": "code",
   "execution_count": 33,
   "id": "0a75b6e7",
   "metadata": {},
   "outputs": [],
   "source": [
    "sw=\"\"\"Vishnu (/ˈvɪʃnʊ/; [ʋɪʂɳʊ]; Sanskrit: विष्णु, lit. 'the pervader', Viṣṇu), also known as Narayana and Hari, is one of the principal deities of Hinduism. He is the supreme being within Vaishnavism, one of the major traditions within contemporary Hinduism.[6][7]\n",
    "\n",
    "Vishnu is known as \"The Preserver\" within the Trimurti, the triple deity of supreme divinity that includes Brahma and Shiva.[8][9] In Vaishnavism tradition, Vishnu is the supreme being who creates, protects and transforms the universe. In the Shaktism tradition, the Goddess, or Devi, is described as one of the supreme, yet Vishnu is revered along with Shiva and Brahma. A goddess is stated to be the energy and creative power (Shakti) of each, with Lakshmi the equal complementary partner of Vishnu.[10] He is one of the five equivalent deities in Panchayatana puja of the Smarta tradition of Hinduism.[9]\n",
    "\n",
    "According to the Vaishnavism sect, the highest form of Ishvar is with qualities (Saguna), and have certain form but is limitless, transcendent and unchanging absolute Brahman, and the primal Atman (Self) of the universe.[11] There are many both benevolent and fearsome depictions of Vishnu. In benevolent aspects, he is depicted as an omniscient sleeping on the coils of the serpent Adishesha (who represents time) floating in the primeval ocean of milk called Kshira Sagara with consort Lakshmi.[12]\n",
    "\n",
    "Whenever the world is threatened with evil, chaos, and destructive forces, Vishnu descends in the form of an avatar (incarnation) to restore the cosmic order and protect Dharma. Dashavatara are the ten primary avatars (incarnations) of Vishnu. Out of the ten, Rama and Krishna avatars are most important.[13]\"\"\""
   ]
  },
  {
   "cell_type": "code",
   "execution_count": 34,
   "id": "daa4d131",
   "metadata": {},
   "outputs": [
    {
     "data": {
      "text/plain": [
       "'Vishnu (/ˈvɪʃnʊ/; [ʋɪʂɳʊ]; Sanskrit: विष्णु, lit.\\u2009\\'the pervader\\', Viṣṇu), also known as Narayana and Hari, is one of the principal deities of Hinduism. He is the supreme being within Vaishnavism, one of the major traditions within contemporary Hinduism.[6][7]\\n\\nVishnu is known as \"The Preserver\" within the Trimurti, the triple deity of supreme divinity that includes Brahma and Shiva.[8][9] In Vaishnavism tradition, Vishnu is the supreme being who creates, protects and transforms the universe. In the Shaktism tradition, the Goddess, or Devi, is described as one of the supreme, yet Vishnu is revered along with Shiva and Brahma. A goddess is stated to be the energy and creative power (Shakti) of each, with Lakshmi the equal complementary partner of Vishnu.[10] He is one of the five equivalent deities in Panchayatana puja of the Smarta tradition of Hinduism.[9]\\n\\nAccording to the Vaishnavism sect, the highest form of Ishvar is with qualities (Saguna), and have certain form but is limitless, transcendent and unchanging absolute Brahman, and the primal Atman (Self) of the universe.[11] There are many both benevolent and fearsome depictions of Vishnu. In benevolent aspects, he is depicted as an omniscient sleeping on the coils of the serpent Adishesha (who represents time) floating in the primeval ocean of milk called Kshira Sagara with consort Lakshmi.[12]\\n\\nWhenever the world is threatened with evil, chaos, and destructive forces, Vishnu descends in the form of an avatar (incarnation) to restore the cosmic order and protect Dharma. Dashavatara are the ten primary avatars (incarnations) of Vishnu. Out of the ten, Rama and Krishna avatars are most important.[13]'"
      ]
     },
     "execution_count": 34,
     "metadata": {},
     "output_type": "execute_result"
    }
   ],
   "source": [
    "sw"
   ]
  },
  {
   "cell_type": "code",
   "execution_count": 36,
   "id": "5e6e89c5",
   "metadata": {},
   "outputs": [
    {
     "ename": "SyntaxError",
     "evalue": "EOL while scanning string literal (2486958165.py, line 2)",
     "output_type": "error",
     "traceback": [
      "\u001b[1;36m  Input \u001b[1;32mIn [36]\u001b[1;36m\u001b[0m\n\u001b[1;33m    \")\u001b[0m\n\u001b[1;37m      ^\u001b[0m\n\u001b[1;31mSyntaxError\u001b[0m\u001b[1;31m:\u001b[0m EOL while scanning string literal\n"
     ]
    }
   ],
   "source": [
    "sw(\"Vishnu (/ˈvɪʃnʊ/; [ʋɪʂɳʊ]; Sanskrit: विष्णु, lit. 'the pervader', Viṣṇu), also known as Narayana and Hari, is one of the principal deities of Hinduism\"\n",
    "\")"
   ]
  },
  {
   "cell_type": "code",
   "execution_count": null,
   "id": "fb75df58",
   "metadata": {},
   "outputs": [],
   "source": []
  }
 ],
 "metadata": {
  "kernelspec": {
   "display_name": "Python 3 (ipykernel)",
   "language": "python",
   "name": "python3"
  },
  "language_info": {
   "codemirror_mode": {
    "name": "ipython",
    "version": 3
   },
   "file_extension": ".py",
   "mimetype": "text/x-python",
   "name": "python",
   "nbconvert_exporter": "python",
   "pygments_lexer": "ipython3",
   "version": "3.9.12"
  }
 },
 "nbformat": 4,
 "nbformat_minor": 5
}
