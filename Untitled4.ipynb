{
 "cells": [
  {
   "cell_type": "code",
   "execution_count": 1,
   "id": "893e52f2",
   "metadata": {},
   "outputs": [],
   "source": [
    "s= \"ineuron\""
   ]
  },
  {
   "cell_type": "code",
   "execution_count": 2,
   "id": "041aceaa",
   "metadata": {},
   "outputs": [
    {
     "data": {
      "text/plain": [
       "str"
      ]
     },
     "execution_count": 2,
     "metadata": {},
     "output_type": "execute_result"
    }
   ],
   "source": [
    "type(s)"
   ]
  },
  {
   "cell_type": "code",
   "execution_count": 3,
   "id": "1da463e3",
   "metadata": {},
   "outputs": [
    {
     "data": {
      "text/plain": [
       "'u'"
      ]
     },
     "execution_count": 3,
     "metadata": {},
     "output_type": "execute_result"
    }
   ],
   "source": [
    "s[3]"
   ]
  },
  {
   "cell_type": "code",
   "execution_count": 7,
   "id": "84c10a0b",
   "metadata": {},
   "outputs": [
    {
     "data": {
      "text/plain": [
       "'n'"
      ]
     },
     "execution_count": 7,
     "metadata": {},
     "output_type": "execute_result"
    }
   ],
   "source": [
    "s[6]"
   ]
  },
  {
   "cell_type": "code",
   "execution_count": 8,
   "id": "a18f4ec1",
   "metadata": {},
   "outputs": [
    {
     "data": {
      "text/plain": [
       "'o'"
      ]
     },
     "execution_count": 8,
     "metadata": {},
     "output_type": "execute_result"
    }
   ],
   "source": [
    "s[-2]"
   ]
  },
  {
   "cell_type": "code",
   "execution_count": 9,
   "id": "0d82f460",
   "metadata": {},
   "outputs": [],
   "source": [
    "s1=\"sudh\""
   ]
  },
  {
   "cell_type": "code",
   "execution_count": 10,
   "id": "f37d9000",
   "metadata": {},
   "outputs": [
    {
     "data": {
      "text/plain": [
       "'s'"
      ]
     },
     "execution_count": 10,
     "metadata": {},
     "output_type": "execute_result"
    }
   ],
   "source": [
    "s1[-4]"
   ]
  },
  {
   "cell_type": "code",
   "execution_count": 16,
   "id": "0a67cf8c",
   "metadata": {},
   "outputs": [],
   "source": [
    "s2=\"this is my very first programming class's\""
   ]
  },
  {
   "cell_type": "code",
   "execution_count": 17,
   "id": "dffebfb1",
   "metadata": {},
   "outputs": [
    {
     "data": {
      "text/plain": [
       "\"this is my very first programming class's\""
      ]
     },
     "execution_count": 17,
     "metadata": {},
     "output_type": "execute_result"
    }
   ],
   "source": [
    "s2"
   ]
  },
  {
   "cell_type": "code",
   "execution_count": 19,
   "id": "0a356251",
   "metadata": {},
   "outputs": [
    {
     "data": {
      "text/plain": [
       "'i'"
      ]
     },
     "execution_count": 19,
     "metadata": {},
     "output_type": "execute_result"
    }
   ],
   "source": [
    "s2[5]"
   ]
  },
  {
   "cell_type": "code",
   "execution_count": 20,
   "id": "6d96c799",
   "metadata": {},
   "outputs": [
    {
     "data": {
      "text/plain": [
       "'his '"
      ]
     },
     "execution_count": 20,
     "metadata": {},
     "output_type": "execute_result"
    }
   ],
   "source": [
    "s2[1:5]"
   ]
  },
  {
   "cell_type": "code",
   "execution_count": 21,
   "id": "447a7c04",
   "metadata": {},
   "outputs": [
    {
     "data": {
      "text/plain": [
       "'s my very first programming c'"
      ]
     },
     "execution_count": 21,
     "metadata": {},
     "output_type": "execute_result"
    }
   ],
   "source": [
    "s2[6:35]"
   ]
  },
  {
   "cell_type": "code",
   "execution_count": 22,
   "id": "d6dd8be1",
   "metadata": {},
   "outputs": [
    {
     "data": {
      "text/plain": [
       "'si yvr is rgam'"
      ]
     },
     "execution_count": 22,
     "metadata": {},
     "output_type": "execute_result"
    }
   ],
   "source": [
    "s2[3:30:2]"
   ]
  },
  {
   "cell_type": "code",
   "execution_count": 23,
   "id": "ac7b55a9",
   "metadata": {},
   "outputs": [],
   "source": [
    "s3=\"atul mishra son of kamleshwar mishra\""
   ]
  },
  {
   "cell_type": "code",
   "execution_count": 24,
   "id": "2d707397",
   "metadata": {},
   "outputs": [
    {
     "data": {
      "text/plain": [
       "'au ihasno alswrmsr'"
      ]
     },
     "execution_count": 24,
     "metadata": {},
     "output_type": "execute_result"
    }
   ],
   "source": [
    "s3[0:45:2]"
   ]
  },
  {
   "cell_type": "code",
   "execution_count": 25,
   "id": "d80f2cc3",
   "metadata": {},
   "outputs": [
    {
     "data": {
      "text/plain": [
       "'atul mishra son of kamleshwar mishra'"
      ]
     },
     "execution_count": 25,
     "metadata": {},
     "output_type": "execute_result"
    }
   ],
   "source": [
    "s3[0:50:1]"
   ]
  },
  {
   "cell_type": "code",
   "execution_count": 26,
   "id": "0f03d08c",
   "metadata": {},
   "outputs": [
    {
     "data": {
      "text/plain": [
       "''"
      ]
     },
     "execution_count": 26,
     "metadata": {},
     "output_type": "execute_result"
    }
   ],
   "source": [
    "s3[0:50:-1]"
   ]
  },
  {
   "cell_type": "code",
   "execution_count": 27,
   "id": "bbfeab0a",
   "metadata": {},
   "outputs": [
    {
     "data": {
      "text/plain": [
       "'arhsim rawhselmak fo nos arhsim lut'"
      ]
     },
     "execution_count": 27,
     "metadata": {},
     "output_type": "execute_result"
    }
   ],
   "source": [
    "s3[50:0:-1]"
   ]
  },
  {
   "cell_type": "code",
   "execution_count": 28,
   "id": "a10e6efb",
   "metadata": {},
   "outputs": [
    {
     "data": {
      "text/plain": [
       "'ahi ahemkf o rsmlt'"
      ]
     },
     "execution_count": 28,
     "metadata": {},
     "output_type": "execute_result"
    }
   ],
   "source": [
    "s3[50:0:-2]"
   ]
  },
  {
   "cell_type": "code",
   "execution_count": 29,
   "id": "cd8761aa",
   "metadata": {},
   "outputs": [
    {
     "data": {
      "text/plain": [
       "'atul mishra son of kamleshwar mishra'"
      ]
     },
     "execution_count": 29,
     "metadata": {},
     "output_type": "execute_result"
    }
   ],
   "source": [
    "s3[:45]"
   ]
  },
  {
   "cell_type": "code",
   "execution_count": 30,
   "id": "e9ae4e60",
   "metadata": {},
   "outputs": [
    {
     "data": {
      "text/plain": [
       "'atul mishra s'"
      ]
     },
     "execution_count": 30,
     "metadata": {},
     "output_type": "execute_result"
    }
   ],
   "source": [
    "s3[:13]"
   ]
  },
  {
   "cell_type": "code",
   "execution_count": 31,
   "id": "3241b2a5",
   "metadata": {},
   "outputs": [
    {
     "data": {
      "text/plain": [
       "'atul mishra son of kamleshwar mi'"
      ]
     },
     "execution_count": 31,
     "metadata": {},
     "output_type": "execute_result"
    }
   ],
   "source": [
    "s3[:-4]"
   ]
  },
  {
   "cell_type": "code",
   "execution_count": 32,
   "id": "d95d2296",
   "metadata": {},
   "outputs": [
    {
     "data": {
      "text/plain": [
       "'au ihasno alswrmsr'"
      ]
     },
     "execution_count": 32,
     "metadata": {},
     "output_type": "execute_result"
    }
   ],
   "source": [
    "s3[::2]"
   ]
  },
  {
   "cell_type": "code",
   "execution_count": 33,
   "id": "a0f0e38d",
   "metadata": {},
   "outputs": [
    {
     "data": {
      "text/plain": [
       "'atul mishra son of kamleshwar mishra'"
      ]
     },
     "execution_count": 33,
     "metadata": {},
     "output_type": "execute_result"
    }
   ],
   "source": [
    "s3"
   ]
  },
  {
   "cell_type": "code",
   "execution_count": 34,
   "id": "9938ac0a",
   "metadata": {},
   "outputs": [
    {
     "data": {
      "text/plain": [
       "'arhsim rawhselmak fo nos arhsim luta'"
      ]
     },
     "execution_count": 34,
     "metadata": {},
     "output_type": "execute_result"
    }
   ],
   "source": [
    "s3[::-1]"
   ]
  },
  {
   "cell_type": "code",
   "execution_count": 35,
   "id": "3526d4a7",
   "metadata": {},
   "outputs": [],
   "source": [
    "s4=\"ineuron\""
   ]
  },
  {
   "cell_type": "code",
   "execution_count": 36,
   "id": "d41f1888",
   "metadata": {},
   "outputs": [
    {
     "data": {
      "text/plain": [
       "''"
      ]
     },
     "execution_count": 36,
     "metadata": {},
     "output_type": "execute_result"
    }
   ],
   "source": [
    "s4[-2:-7:1]"
   ]
  },
  {
   "cell_type": "code",
   "execution_count": 37,
   "id": "67305f34",
   "metadata": {},
   "outputs": [
    {
     "data": {
      "text/plain": [
       "'ineur'"
      ]
     },
     "execution_count": 37,
     "metadata": {},
     "output_type": "execute_result"
    }
   ],
   "source": [
    "s4[-7:-2:1]"
   ]
  },
  {
   "cell_type": "code",
   "execution_count": 38,
   "id": "9d5b3d18",
   "metadata": {},
   "outputs": [
    {
     "data": {
      "text/plain": [
       "''"
      ]
     },
     "execution_count": 38,
     "metadata": {},
     "output_type": "execute_result"
    }
   ],
   "source": [
    "s4[5:0]"
   ]
  },
  {
   "cell_type": "code",
   "execution_count": null,
   "id": "075514ad",
   "metadata": {},
   "outputs": [],
   "source": []
  }
 ],
 "metadata": {
  "kernelspec": {
   "display_name": "Python 3 (ipykernel)",
   "language": "python",
   "name": "python3"
  },
  "language_info": {
   "codemirror_mode": {
    "name": "ipython",
    "version": 3
   },
   "file_extension": ".py",
   "mimetype": "text/x-python",
   "name": "python",
   "nbconvert_exporter": "python",
   "pygments_lexer": "ipython3",
   "version": "3.9.12"
  }
 },
 "nbformat": 4,
 "nbformat_minor": 5
}
